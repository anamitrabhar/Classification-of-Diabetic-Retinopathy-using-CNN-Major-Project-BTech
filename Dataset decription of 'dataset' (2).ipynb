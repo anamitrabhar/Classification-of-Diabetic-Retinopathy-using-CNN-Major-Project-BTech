{
 "cells": [
  {
   "cell_type": "code",
   "execution_count": 79,
   "id": "9ac395a0",
   "metadata": {},
   "outputs": [],
   "source": [
    "train_dir = 'dataset/train'\n",
    "test_dir = 'dataset/test'"
   ]
  },
  {
   "cell_type": "code",
   "execution_count": 80,
   "id": "5436f4c6",
   "metadata": {},
   "outputs": [],
   "source": [
    "import os\n",
    "train_n={}\n",
    "test_n={}"
   ]
  },
  {
   "cell_type": "code",
   "execution_count": 81,
   "id": "7ba1fe58",
   "metadata": {},
   "outputs": [],
   "source": [
    "for i in range(5):\n",
    "    x = str(i)\n",
    "    \n",
    "    p = os.path.join(train_dir,x)\n",
    "    n=len(os.listdir(p))\n",
    "    train_n[x]=n\n",
    "    \n",
    "    p=os.path.join(test_dir,x)\n",
    "    n=len(os.listdir(p))\n",
    "    test_n[x]=n"
   ]
  },
  {
   "cell_type": "code",
   "execution_count": 82,
   "id": "308515b9",
   "metadata": {},
   "outputs": [
    {
     "name": "stdout",
     "output_type": "stream",
     "text": [
      "{'0': 1444, '1': 296, '2': 800, '3': 155, '4': 236}\n",
      "{'0': 361, '1': 74, '2': 199, '3': 38, '4': 59}\n"
     ]
    }
   ],
   "source": [
    "print(train_n)\n",
    "print(test_n)"
   ]
  },
  {
   "cell_type": "code",
   "execution_count": 83,
   "id": "cf5fd7e9",
   "metadata": {},
   "outputs": [],
   "source": [
    "total_n = {}\n",
    "for i in train_n:\n",
    "    total_n[i] = train_n[i]+test_n[i]"
   ]
  },
  {
   "cell_type": "code",
   "execution_count": 84,
   "id": "428f03bd",
   "metadata": {},
   "outputs": [],
   "source": [
    "import matplotlib.pyplot as plt\n",
    "\n",
    "def dataset_plot(data, label):\n",
    "    courses = list(data.keys())\n",
    "    values = list(data.values())\n",
    "\n",
    "    fig = plt.figure(figsize = (10, 5))\n",
    "\n",
    "    # creating the bar plot\n",
    "    plt.bar(courses, values, \n",
    "            width = 0.4)\n",
    "\n",
    "    plt.xlabel(\"DR Category\")\n",
    "    plt.ylabel(\"Number of Images\")\n",
    "    plt.title(label)\n",
    "    plt.show()"
   ]
  },
  {
   "cell_type": "code",
   "execution_count": 85,
   "id": "2984c518",
   "metadata": {},
   "outputs": [
    {
     "data": {
      "image/png": "[encoded data removed]",
      "text/plain": [
       "<Figure size 720x360 with 1 Axes>"
      ]
     },
     "metadata": {
      "needs_background": "light"
     },
     "output_type": "display_data"
    }
   ],
   "source": [
    "dataset_plot(total_n, \"Dataset\")"
   ]
  },
  {
   "cell_type": "code",
   "execution_count": 86,
   "id": "6525b653",
   "metadata": {},
   "outputs": [
    {
     "name": "stdout",
     "output_type": "stream",
     "text": [
      "Category  |  Images\n",
      "----------+----------\n",
      "    0     |   1805\n",
      "    1     |   370\n",
      "    2     |   999\n",
      "    3     |   193\n",
      "    4     |   295\n"
     ]
    }
   ],
   "source": [
    "print(\"Category  | \",\"Images\")\n",
    "print(\"----------+----------\")\n",
    "for i in total_n:\n",
    "    print(\"   \",i,  \"    |  \",total_n[i])"
   ]
  },
  {
   "cell_type": "code",
   "execution_count": 87,
   "id": "4ecb402d",
   "metadata": {},
   "outputs": [
    {
     "name": "stdout",
     "output_type": "stream",
     "text": [
      "Category  |  Images\n",
      "----------+----------\n",
      "  No DR   |  1805\n",
      "   DR     |  1857\n"
     ]
    }
   ],
   "source": [
    "print(\"Category  | \",\"Images\")\n",
    "print(\"----------+----------\")\n",
    "print(\"  No DR   | \",total_n['0'])\n",
    "print(\"   DR     | \",total_n['1']+total_n['2']+total_n['3']+total_n['4'])"
   ]
  },
  {
   "cell_type": "code",
   "execution_count": null,
   "id": "eece3673",
   "metadata": {},
   "outputs": [],
   "source": []
  }
 ],
 "metadata": {
  "kernelspec": {
   "display_name": "Python 3 (ipykernel)",
   "language": "python",
   "name": "python3"
  },
  "language_info": {
   "codemirror_mode": {
    "name": "ipython",
    "version": 3
   },
   "file_extension": ".py",
   "mimetype": "text/x-python",
   "name": "python",
   "nbconvert_exporter": "python",
   "pygments_lexer": "ipython3",
   "version": "3.8.12"
  }
 },
 "nbformat": 4,
 "nbformat_minor": 5
}
